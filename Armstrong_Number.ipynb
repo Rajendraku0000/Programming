{
 "cells": [
  {
   "cell_type": "markdown",
   "id": "64b5b59d",
   "metadata": {},
   "source": [
    "# method 1\n"
   ]
  },
  {
   "cell_type": "code",
   "execution_count": 4,
   "id": "f2f19fa9",
   "metadata": {},
   "outputs": [
    {
     "name": "stdout",
     "output_type": "stream",
     "text": [
      "Enter number : 153\n",
      "yes is armstrom number\n"
     ]
    }
   ],
   "source": [
    "n=int(input(\"Enter number : \"))\n",
    "orig=n\n",
    "sum1=0\n",
    "while n>0:\n",
    "    sum1=sum1 + (n%10)*(n%10)*(n%10)\n",
    "    n=n//10\n",
    "if orig==sum1:\n",
    "    print(\"yes this is armstrom number\")\n",
    "else:\n",
    "    print(\"this is not armstorm numbaer\")"
   ]
  },
  {
   "cell_type": "code",
   "execution_count": null,
   "id": "b4e38b3b",
   "metadata": {},
   "outputs": [],
   "source": []
  },
  {
   "cell_type": "markdown",
   "id": "bfd9ac20",
   "metadata": {},
   "source": [
    "# method 2"
   ]
  },
  {
   "cell_type": "code",
   "execution_count": 15,
   "id": "7319e563",
   "metadata": {},
   "outputs": [
    {
     "name": "stdout",
     "output_type": "stream",
     "text": [
      "Enter number : 153\n",
      "yes this is armstrom number\n"
     ]
    }
   ],
   "source": [
    "n=input(\"Enter number : \")\n",
    "orig=int(n)\n",
    "sum1=0\n",
    "for i in n:\n",
    "    sum1=sum1 + int(i)**3\n",
    "\n",
    "if orig==sum1:\n",
    "    print(\"yes this is armstrom number\")\n",
    "else:\n",
    "    print(\"No is not armstorm numbaer\")"
   ]
  },
  {
   "cell_type": "code",
   "execution_count": null,
   "id": "ff21bc45",
   "metadata": {},
   "outputs": [],
   "source": []
  },
  {
   "cell_type": "markdown",
   "id": "97f7dec1",
   "metadata": {},
   "source": [
    "# Method 3 "
   ]
  },
  {
   "cell_type": "code",
   "execution_count": 16,
   "id": "08763548",
   "metadata": {},
   "outputs": [
    {
     "name": "stdout",
     "output_type": "stream",
     "text": [
      "True\n"
     ]
    }
   ],
   "source": [
    "def is_armstrong(num):\n",
    "    num_str = str(num)\n",
    "    n = len(num_str)\n",
    "    sum = 0\n",
    "    for digit in num_str:\n",
    "        sum += int(digit)**n\n",
    "    if sum == num:\n",
    "        return True\n",
    "    else:\n",
    "        return False\n",
    "num=153\n",
    "print(is_armstrong(num))"
   ]
  },
  {
   "cell_type": "code",
   "execution_count": null,
   "id": "b2a67484",
   "metadata": {},
   "outputs": [],
   "source": []
  }
 ],
 "metadata": {
  "kernelspec": {
   "display_name": "Python 3 (ipykernel)",
   "language": "python",
   "name": "python3"
  },
  "language_info": {
   "codemirror_mode": {
    "name": "ipython",
    "version": 3
   },
   "file_extension": ".py",
   "mimetype": "text/x-python",
   "name": "python",
   "nbconvert_exporter": "python",
   "pygments_lexer": "ipython3",
   "version": "3.10.9"
  }
 },
 "nbformat": 4,
 "nbformat_minor": 5
}
